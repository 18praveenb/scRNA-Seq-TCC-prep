{
 "cells": [
  {
   "cell_type": "code",
   "execution_count": null,
   "metadata": {
    "collapsed": false
   },
   "outputs": [],
   "source": [
    "import json\n",
    "with open(\"config.json\") as json_file:\n",
    "    parameter = json.load(json_file)\n",
    "print \"Number of threads\", parameter[\"NUM_THREADS\"]"
   ]
  },
  {
   "cell_type": "markdown",
   "metadata": {},
   "source": [
    "# Load dataset"
   ]
  },
  {
   "cell_type": "code",
   "execution_count": null,
   "metadata": {
    "collapsed": false
   },
   "outputs": [],
   "source": [
    "import numpy as np\n",
    "import pickle\n",
    "\n",
    "with open(parameter[\"SAVE_DIR\"]+\"TCC_matrix.dat\", 'rb') as f:\n",
    "    T=pickle.load(f)\n",
    "with open(parameter[\"SAVE_DIR\"]+\"pwise_dist_L1.dat\", 'rb') as f:\n",
    "    D_l1=pickle.load(f)\n",
    "with open(parameter[\"SAVE_DIR\"]+\"nonzero_ec.dat\", 'rb') as f:\n",
    "    nonzero_ec=pickle.load(f)\n",
    "T_norm = T/np.array(T.sum(axis=0),dtype='double')\n",
    "T_normT = T_norm.transpose()    \n",
    "NUM_OF_CELLS=np.shape(T)[1]\n",
    "print \"NUM_OF_CELLS =\", NUM_OF_CELLS\n",
    "print \"eq_classes =\", np.shape(T)[0]"
   ]
  },
  {
   "cell_type": "code",
   "execution_count": null,
   "metadata": {
    "collapsed": false
   },
   "outputs": [],
   "source": [
    "EC_dict = {}\n",
    "for i in range(np.shape(ec)[0]):\n",
    "    EC_dict[i] = [int(x) for x in ec[i,1].split(',')]\n",
    "    \n",
    "union=set()\n",
    "for i in nonzero_ec:\n",
    "    new = [tx for tx in EC_dict[i] if tx not in union] # filter out previously seen transcripts\n",
    "    union.update(new) \n",
    "union_list=list(union)\n",
    "NUM_OF_TX_inTCC = len(union)\n",
    "print \"NUM_OF_TX_inTCC =\", NUM_OF_TX_inTCC"
   ]
  },
  {
   "cell_type": "markdown",
   "metadata": {},
   "source": [
    "### Inspect"
   ]
  },
  {
   "cell_type": "code",
   "execution_count": null,
   "metadata": {
    "collapsed": false
   },
   "outputs": [],
   "source": [
    "#sort eq. classes based on size\n",
    "size_of_ec = [len(EC_dict[i]) for i in nonzero_ec]\n",
    "ec_idx = [i[0] for i in sorted(enumerate(size_of_ec), key=lambda x:x[1])]\n",
    "index_ec = np.array(ec_idx)\n",
    "\n",
    "ec_sort_map={}\n",
    "nonzero_ec_srt=[]; #init\n",
    "for i in range(len(nonzero_ec)):\n",
    "    nonzero_ec_srt+=[nonzero_ec[index_ec[i]]]\n",
    "    ec_sort_map[nonzero_ec[index_ec[i]]] = i\n",
    "nonzero_ec_srt = np.array(nonzero_ec_srt)\n",
    "\n",
    "ec_size_sort=np.array(size_of_ec)[index_ec]\n",
    "sumi = T.sum(axis=1)\n",
    "sumi_sorted=sumi[index_ec]\n",
    "total_num_of_reads = sum(sumi_sorted)\n",
    "total_num_of_reads_cell = T.sum(axis=0)\n",
    "\n",
    "print \"Total number of reads =\", total_num_of_reads"
   ]
  },
  {
   "cell_type": "code",
   "execution_count": null,
   "metadata": {
    "collapsed": false
   },
   "outputs": [],
   "source": [
    "import matplotlib.pyplot as plt\n",
    "%matplotlib inline\n",
    "\n",
    "fig, ax1 = plt.subplots()\n",
    "ax1.plot(sumi_sorted, 'b-')\n",
    "ax1.set_xlabel('equivalence class id')\n",
    "ax1.set_ylabel('number of reads', color='b')\n",
    "# ax1.set_xlim([0,620000])\n",
    "for tl in ax1.get_yticklabels():\n",
    "    tl.set_color('b')\n",
    "\n",
    "\n",
    "ax2 = ax1.twinx()\n",
    "\n",
    "ax2.plot(ec_size_sort, 'r')\n",
    "ax2.set_ylabel('size of equivalence class', color='r')\n",
    "# ax2.set_xlim([0,620000])\n",
    "for tl in ax2.get_yticklabels():\n",
    "    tl.set_color('r')\n",
    "plt.show()"
   ]
  },
  {
   "cell_type": "markdown",
   "metadata": {},
   "source": [
    "# Clustering"
   ]
  },
  {
   "cell_type": "code",
   "execution_count": null,
   "metadata": {
    "collapsed": true
   },
   "outputs": [],
   "source": [
    "from sklearn import cluster,manifold\n",
    "import matplotlib.pyplot as plt\n",
    "%matplotlib inline\n",
    "\n",
    "def AffinityProp(D,pref,damp):\n",
    "    aff= cluster.AffinityPropagation(affinity='precomputed',\n",
    "                                     preference=pref,damping=damp, verbose=True)\n",
    "    labels=aff.fit_predict(D)\n",
    "    return labels\n",
    "\n",
    "def spectral(k,D):\n",
    "    spectral = cluster.SpectralClustering(n_clusters=k,affinity='precomputed')\n",
    "    spectral.fit(D)\n",
    "    labels = spectral.labels_\n",
    "    return labels\n",
    "\n",
    "def tSNE_pairwise(D):\n",
    "    tsne = manifold.TSNE(n_components=2, random_state=0, metric='precomputed', n_iter=2000, verbose=1);\n",
    "    X_tsne = tsne.fit_transform(D);\n",
    "    return X_tsne"
   ]
  },
  {
   "cell_type": "code",
   "execution_count": null,
   "metadata": {
    "collapsed": false
   },
   "outputs": [],
   "source": [
    "X_tsne=tSNE_pairwise(D_l1)"
   ]
  },
  {
   "cell_type": "code",
   "execution_count": null,
   "metadata": {
    "collapsed": true
   },
   "outputs": [],
   "source": [
    "# Plot function with (nonrandom) colors corresponding to labels (star a specific label)\n",
    "def stain_plot(X,labels,stain,title,nc=2):\n",
    "    unique_labels = np.unique(labels)\n",
    "    N = len(unique_labels)\n",
    "    max_value = 16581375 #255**3\n",
    "    interval = int(max_value / N)\n",
    "    colors = [hex(I)[2:].zfill(6) for I in range(0, max_value, interval)]    \n",
    "    color= [(int(i[:2], 16)/float(255), int(i[2:4], 16)/float(255), \n",
    "             int(i[4:], 16)/float(255)) for i in colors]\n",
    "    i=0;\n",
    "    plt.figure(figsize=(15,10))\n",
    "    for label in unique_labels:\n",
    "        ind = np.squeeze(labels == label)\n",
    "        if label in stain: \n",
    "            plt.scatter(X[ind,0],X[ind,1],c='red',s=146,edgecolors='black',\n",
    "                        lw = 0.5, alpha=1,marker='*',label=label)\n",
    "        else:\n",
    "            plt.scatter(X[ind,0],X[ind,1],c=color[i],s=36,edgecolors='gray',\n",
    "                        lw = 0.5,label=label)        \n",
    "        i+=1   \n",
    "    plt.title(title)\n",
    "    plt.legend(loc='upper right',bbox_to_anchor=(1.18, 1.01),ncol=nc)\n",
    "#     plt.xlim([-20,20])\n",
    "#     plt.ylim([-20,20])\n",
    "    plt.axis('off')"
   ]
  },
  {
   "cell_type": "code",
   "execution_count": null,
   "metadata": {
    "collapsed": true
   },
   "outputs": [],
   "source": [
    "labels_2 = spectral(2,D_l1.max()-D_l1)"
   ]
  },
  {
   "cell_type": "code",
   "execution_count": null,
   "metadata": {
    "collapsed": false
   },
   "outputs": [],
   "source": [
    "stain_plot(X_tsne,labels_2,[],\"hum_mus TCC -- tSNE, two_labels\")"
   ]
  },
  {
   "cell_type": "code",
   "execution_count": null,
   "metadata": {
    "collapsed": false
   },
   "outputs": [],
   "source": [
    "pref = -np.median(D_l1)*np.ones(NUM_OF_CELLS)\n",
    "labels_aff=AffinityProp(-D_l1,pref,0.5)\n",
    "np.unique(labels_aff)"
   ]
  },
  {
   "cell_type": "code",
   "execution_count": null,
   "metadata": {
    "collapsed": false
   },
   "outputs": [],
   "source": [
    "stain_plot(X_tsne,labels_aff,[],\"hum_mus TCC -- tSNE, AP_labels\")"
   ]
  },
  {
   "cell_type": "code",
   "execution_count": null,
   "metadata": {
    "collapsed": true
   },
   "outputs": [],
   "source": [
    "from sklearn.decomposition import PCA\n",
    "pca = PCA(n_components=2)\n",
    "X_pca = pca.fit_transform(T_normT)"
   ]
  },
  {
   "cell_type": "code",
   "execution_count": null,
   "metadata": {
    "collapsed": false
   },
   "outputs": [],
   "source": [
    "stain_plot(X_pca,labels_2,[],\"hum_mus TCC -- PCA, AP_labels\")"
   ]
  },
  {
   "cell_type": "markdown",
   "metadata": {},
   "source": [
    "### --------------"
   ]
  },
  {
   "cell_type": "code",
   "execution_count": null,
   "metadata": {
    "collapsed": true
   },
   "outputs": [],
   "source": []
  }
 ],
 "metadata": {
  "kernelspec": {
   "display_name": "Python 2",
   "language": "python",
   "name": "python2"
  },
  "language_info": {
   "codemirror_mode": {
    "name": "ipython",
    "version": 2
   },
   "file_extension": ".py",
   "mimetype": "text/x-python",
   "name": "python",
   "nbconvert_exporter": "python",
   "pygments_lexer": "ipython2",
   "version": "2.7.10"
  }
 },
 "nbformat": 4,
 "nbformat_minor": 0
}
